{
  "nbformat": 4,
  "nbformat_minor": 0,
  "metadata": {
    "colab": {
      "name": "Map_Reduce(19pd27)",
      "provenance": [],
      "authorship_tag": "ABX9TyNn1jHagrofNnHVlT99X1fC",
      "include_colab_link": true
    },
    "kernelspec": {
      "name": "python3",
      "display_name": "Python 3"
    },
    "language_info": {
      "name": "python"
    }
  },
  "cells": [
    {
      "cell_type": "markdown",
      "metadata": {
        "id": "view-in-github",
        "colab_type": "text"
      },
      "source": [
        "<a href=\"https://colab.research.google.com/github/hariharan1821/big_data/blob/main/Map_Reduce(19pd27).ipynb\" target=\"_parent\"><img src=\"https://colab.research.google.com/assets/colab-badge.svg\" alt=\"Open In Colab\"/></a>"
      ]
    },
    {
      "cell_type": "code",
      "execution_count": null,
      "metadata": {
        "id": "lB_TaX1lkvBW"
      },
      "outputs": [],
      "source": [
        "import numpy as np\n",
        "import pandas as pd"
      ]
    },
    {
      "cell_type": "code",
      "source": [
        "from google.colab import drive\n",
        "drive.mount('/content/drive')"
      ],
      "metadata": {
        "colab": {
          "base_uri": "https://localhost:8080/"
        },
        "id": "5T7M28lPlUGZ",
        "outputId": "98afb05f-7b88-44f3-fd4d-63ca0facda09"
      },
      "execution_count": null,
      "outputs": [
        {
          "output_type": "stream",
          "name": "stdout",
          "text": [
            "Drive already mounted at /content/drive; to attempt to forcibly remount, call drive.mount(\"/content/drive\", force_remount=True).\n"
          ]
        }
      ]
    },
    {
      "cell_type": "code",
      "source": [
        "pathfile = '/content/drive/MyDrive/sem6/big data/input.txt'"
      ],
      "metadata": {
        "id": "Lc0zNxCqldFR"
      },
      "execution_count": null,
      "outputs": []
    },
    {
      "cell_type": "markdown",
      "source": [
        "# **1**"
      ],
      "metadata": {
        "id": "ipcBS7pRm0hw"
      }
    },
    {
      "cell_type": "code",
      "source": [
        "def map1(path):\n",
        "  with open(path, 'r', encoding = 'utf-8', errors = 'ignore') as f:\n",
        "    lines = []\n",
        "    for line in f:\n",
        "      lines.append(line)\n",
        "\n",
        "  lines_map = {}\n",
        "  for i in lines:\n",
        "    if i not in lines_map:\n",
        "      lines_map[i] = [1]\n",
        "    else:\n",
        "      lines_map[i].append(1)\n",
        "\n",
        "  return lines_map"
      ],
      "metadata": {
        "id": "1chg5pCanJeX"
      },
      "execution_count": null,
      "outputs": []
    },
    {
      "cell_type": "code",
      "source": [
        "def reduce1(map_dict):\n",
        "  reduced_dict = []\n",
        "  for i, j in map_dict.items():\n",
        "    reduced_dict.append((i,len(j)))\n",
        "  return reduced_dict"
      ],
      "metadata": {
        "id": "otrqmckSnpMA"
      },
      "execution_count": null,
      "outputs": []
    },
    {
      "cell_type": "code",
      "source": [
        "line_map_result = map1(pathfile)\n",
        "print(\"MAP : \\n\",line_map_result)\n",
        "\n",
        "reduce_result = reduce1(line_map_result)\n",
        "print(\"REDUCED : \\n\",reduce_result)"
      ],
      "metadata": {
        "colab": {
          "base_uri": "https://localhost:8080/"
        },
        "id": "2OVgqXhpn1BX",
        "outputId": "550cb480-b8f6-48a5-9c5f-08851cfff458"
      },
      "execution_count": null,
      "outputs": [
        {
          "output_type": "stream",
          "name": "stdout",
          "text": [
            "MAP : \n",
            " {'geeks for geeks is best online coding platform\\n': [1], 'welcome to geeks for geeks hadoop streaming tutorial': [1]}\n",
            "REDUCED : \n",
            " [('geeks for geeks is best online coding platform\\n', 1), ('welcome to geeks for geeks hadoop streaming tutorial', 1)]\n"
          ]
        }
      ]
    },
    {
      "cell_type": "markdown",
      "source": [
        "# **2**"
      ],
      "metadata": {
        "id": "EKH2jZWpl2yy"
      }
    },
    {
      "cell_type": "code",
      "source": [
        "def map2(path):\n",
        "  with open(path, 'r', encoding = 'utf-8', errors = 'ignore') as f:\n",
        "    letters = []\n",
        "    for line in f:\n",
        "      for word in line.split():\n",
        "        for letter in word:\n",
        "          letters.append(letter)\n",
        "\n",
        "  letters_map = {}\n",
        "  for i in letters:\n",
        "    if letter not in [',','.']:\n",
        "      if i not in letters_map:\n",
        "        letters_map[i] = [1]\n",
        "      else:\n",
        "        letters_map[i].append(1)\n",
        "\n",
        "  return letters_map"
      ],
      "metadata": {
        "id": "NzcFvuJImg5B"
      },
      "execution_count": null,
      "outputs": []
    },
    {
      "cell_type": "code",
      "source": [
        "def reduce2(map_dict):\n",
        "  reduced_dict = []\n",
        "  for i, j in map_dict.items():\n",
        "    reduced_dict.append((i,len(j)))\n",
        "  return reduced_dict"
      ],
      "metadata": {
        "id": "OVYYy6rjo2tK"
      },
      "execution_count": null,
      "outputs": []
    },
    {
      "cell_type": "code",
      "source": [
        "map_result = map2(pathfile)\n",
        "print(\"MAP : \\n\",map_result)\n",
        "\n",
        "reduce_result = reduce2(map_result)\n",
        "print(\"REDUCED : \\n\",reduce_result)"
      ],
      "metadata": {
        "colab": {
          "base_uri": "https://localhost:8080/"
        },
        "id": "tDgtrfuprrKC",
        "outputId": "2031f5cc-8895-48e1-95b2-ff5519d9443e"
      },
      "execution_count": null,
      "outputs": [
        {
          "output_type": "stream",
          "name": "stdout",
          "text": [
            "MAP : \n",
            " {'g': [1, 1, 1, 1, 1, 1], 'e': [1, 1, 1, 1, 1, 1, 1, 1, 1, 1, 1, 1, 1], 'k': [1, 1, 1, 1], 's': [1, 1, 1, 1, 1, 1, 1], 'f': [1, 1, 1], 'o': [1, 1, 1, 1, 1, 1, 1, 1, 1, 1], 'r': [1, 1, 1, 1, 1], 'i': [1, 1, 1, 1, 1], 'b': [1], 't': [1, 1, 1, 1, 1, 1], 'n': [1, 1, 1, 1], 'l': [1, 1, 1, 1], 'c': [1, 1], 'd': [1, 1], 'p': [1, 1], 'a': [1, 1, 1, 1], 'm': [1, 1, 1], 'w': [1], 'h': [1], 'u': [1]}\n",
            "REDUCED : \n",
            " [('g', 6), ('e', 13), ('k', 4), ('s', 7), ('f', 3), ('o', 10), ('r', 5), ('i', 5), ('b', 1), ('t', 6), ('n', 4), ('l', 4), ('c', 2), ('d', 2), ('p', 2), ('a', 4), ('m', 3), ('w', 1), ('h', 1), ('u', 1)]\n"
          ]
        }
      ]
    },
    {
      "cell_type": "markdown",
      "source": [
        "# **3**"
      ],
      "metadata": {
        "id": "rlrUFoB8l7iC"
      }
    },
    {
      "cell_type": "code",
      "source": [
        "def map3(path):\n",
        "  with open(path, 'r', encoding = 'utf-8', errors = 'ignore') as f:\n",
        "    words = []\n",
        "    for line in f:\n",
        "      for word in line.split():\n",
        "          words.append(word)\n",
        "\n",
        "  words_map = {}\n",
        "  for i in words:\n",
        "    if i not in words_map:\n",
        "      words_map[i] = [1]\n",
        "    else:\n",
        "      words_map[i].append(1)\n",
        "\n",
        "  return words_map"
      ],
      "metadata": {
        "id": "GnzIHu8OsH3y"
      },
      "execution_count": null,
      "outputs": []
    },
    {
      "cell_type": "code",
      "source": [
        "def reduce3(map_dict):\n",
        "  reduced_dict = []\n",
        "  for i, j in map_dict.items():\n",
        "    reduced_dict.append((i,len(j)))\n",
        "  return reduced_dict"
      ],
      "metadata": {
        "id": "R0bSU3L6lKxY"
      },
      "execution_count": null,
      "outputs": []
    },
    {
      "cell_type": "code",
      "source": [
        "word_map_result = map3(pathfile)\n",
        "print(\"MAP : \\n\",word_map_result)\n",
        "\n",
        "reduce_result = reduce3(word_map_result)\n",
        "print(\"REDUCED : \\n\",reduce_result)"
      ],
      "metadata": {
        "colab": {
          "base_uri": "https://localhost:8080/"
        },
        "id": "CD5NmxWClC8T",
        "outputId": "294249be-9a05-441e-cc30-528f5e0b5095"
      },
      "execution_count": null,
      "outputs": [
        {
          "output_type": "stream",
          "name": "stdout",
          "text": [
            "MAP : \n",
            " {'geeks': [1, 1, 1, 1], 'for': [1, 1], 'is': [1], 'best': [1], 'online': [1], 'coding': [1], 'platform': [1], 'welcome': [1], 'to': [1], 'hadoop': [1], 'streaming': [1], 'tutorial': [1]}\n",
            "REDUCED : \n",
            " [('geeks', 4), ('for', 2), ('is', 1), ('best', 1), ('online', 1), ('coding', 1), ('platform', 1), ('welcome', 1), ('to', 1), ('hadoop', 1), ('streaming', 1), ('tutorial', 1)]\n"
          ]
        }
      ]
    },
    {
      "cell_type": "markdown",
      "source": [
        "# **4**"
      ],
      "metadata": {
        "id": "-2kS9xCRl91q"
      }
    },
    {
      "cell_type": "code",
      "source": [
        "def map4(path):\n",
        "  with open(path, 'r', encoding = 'utf-8', errors = 'ignore') as f:\n",
        "    words = []\n",
        "    for i,line in enumerate(f):\n",
        "      for word in line.split():\n",
        "          words.append((word,i+1))\n",
        "\n",
        "  words_map = {}\n",
        "  for i,j in words:\n",
        "    if i not in words_map:\n",
        "      words_map[i] = [j]\n",
        "    else:\n",
        "      words_map[i].append(j)\n",
        "\n",
        "  return words_map"
      ],
      "metadata": {
        "id": "QGfGjfNNl_la"
      },
      "execution_count": null,
      "outputs": []
    },
    {
      "cell_type": "code",
      "source": [
        "def reduce4(map_dict):\n",
        "  reduced_dict = []\n",
        "  for i, j in map_dict.items():\n",
        "    reduced_dict.append((i,j))\n",
        "  return reduced_dict"
      ],
      "metadata": {
        "id": "pEfRxg9luR2K"
      },
      "execution_count": null,
      "outputs": []
    },
    {
      "cell_type": "code",
      "source": [
        "grep_map_result = map4(pathfile)\n",
        "print(\"MAP : \\n\",grep_map_result)\n",
        "\n",
        "reduce_result = reduce4(grep_map_result)\n",
        "print(\"REDUCED : \\n\",reduce_result)"
      ],
      "metadata": {
        "colab": {
          "base_uri": "https://localhost:8080/"
        },
        "id": "KpfN8uDeuEnJ",
        "outputId": "5b479bef-fcaa-44a5-e970-c93edee853b6"
      },
      "execution_count": null,
      "outputs": [
        {
          "output_type": "stream",
          "name": "stdout",
          "text": [
            "MAP : \n",
            " {'geeks': [1, 1, 2, 2], 'for': [1, 2], 'is': [1], 'best': [1], 'online': [1], 'coding': [1], 'platform': [1], 'welcome': [2], 'to': [2], 'hadoop': [2], 'streaming': [2], 'tutorial': [2]}\n",
            "REDUCED : \n",
            " [('geeks', [1, 1, 2, 2]), ('for', [1, 2]), ('is', [1]), ('best', [1]), ('online', [1]), ('coding', [1]), ('platform', [1]), ('welcome', [2]), ('to', [2]), ('hadoop', [2]), ('streaming', [2]), ('tutorial', [2])]\n"
          ]
        }
      ]
    },
    {
      "cell_type": "markdown",
      "source": [
        "# **5**"
      ],
      "metadata": {
        "id": "L0H_gHh80jVw"
      }
    },
    {
      "cell_type": "code",
      "source": [
        "def map5(path):\n",
        "  with open(path, 'r', encoding = 'utf-8', errors = 'ignore') as f:\n",
        "    words = []\n",
        "    index = 0\n",
        "    for line in f:\n",
        "      for word in line.split():\n",
        "          words.append((word,index))\n",
        "          index+=1\n",
        "\n",
        "\n",
        "  words_map = {}\n",
        "  for i,j in words:\n",
        "    if i.lower() not in words_map:\n",
        "      words_map[i] = [j]\n",
        "    else:\n",
        "      words_map[i].append(j)\n",
        "\n",
        "  return words_map"
      ],
      "metadata": {
        "id": "3e8cF9Kvxqw3"
      },
      "execution_count": null,
      "outputs": []
    },
    {
      "cell_type": "code",
      "source": [
        "def reduce5(map_dict):\n",
        "  reduced_dict = []\n",
        "  for i, j in map_dict.items():\n",
        "    reduced_dict.append((i,j))\n",
        "  return reduced_dict"
      ],
      "metadata": {
        "id": "Ae9hP2Se1r4H"
      },
      "execution_count": null,
      "outputs": []
    },
    {
      "cell_type": "code",
      "source": [
        "index_map_result = map5(pathfile)\n",
        "print(\"MAP : \\n\",index_map_result)\n",
        "\n",
        "reduce_result = reduce5(index_map_result)\n",
        "print(\"REDUCED : \\n\",reduce_result)"
      ],
      "metadata": {
        "colab": {
          "base_uri": "https://localhost:8080/"
        },
        "id": "MQuxmw2p2JQ4",
        "outputId": "e68340ec-6921-4914-ddbf-57cb136facf7"
      },
      "execution_count": null,
      "outputs": [
        {
          "output_type": "stream",
          "name": "stdout",
          "text": [
            "MAP : \n",
            " {'geeks': [0, 2, 10, 12], 'for': [1, 11], 'is': [3], 'best': [4], 'online': [5], 'coding': [6], 'platform': [7], 'welcome': [8], 'to': [9], 'hadoop': [13], 'streaming': [14], 'tutorial': [15]}\n",
            "REDUCED : \n",
            " [('geeks', [0, 2, 10, 12]), ('for', [1, 11]), ('is', [3]), ('best', [4]), ('online', [5]), ('coding', [6]), ('platform', [7]), ('welcome', [8]), ('to', [9]), ('hadoop', [13]), ('streaming', [14]), ('tutorial', [15])]\n"
          ]
        }
      ]
    },
    {
      "cell_type": "markdown",
      "source": [
        "# **6**"
      ],
      "metadata": {
        "id": "vaNfPSq14Rtd"
      }
    },
    {
      "cell_type": "code",
      "source": [
        "path = '/content/drive/MyDrive/sem6/big data/schedules.json'\n",
        "df = pd.read_json(path)\n",
        "df.head()"
      ],
      "metadata": {
        "colab": {
          "base_uri": "https://localhost:8080/",
          "height": 444
        },
        "id": "fkD096pQ4FTH",
        "outputId": "b3b05b06-8de0-432a-f644-8ab420e36bd0"
      },
      "execution_count": null,
      "outputs": [
        {
          "output_type": "execute_result",
          "data": {
            "text/plain": [
              "  arrival  day                     train_name         station_name  \\\n",
              "0    None  1.0     Falaknuma Lingampalli MMTS  KACHEGUDA FALAKNUMA   \n",
              "1    None  1.0   Thrissur Guruvayur Passenger              THRISUR   \n",
              "2    None  1.0  Porbandar Muzaffarpur Express            PORBANDAR   \n",
              "3    None  1.0             RAIPUR ITWARI PASS            RAIPUR JN   \n",
              "4    None  1.0             Gomoh-Asansol MEMU             GOMOH JN   \n",
              "\n",
              "  station_code      id train_number departure  \n",
              "0           FM  302214        47154  07:55:00  \n",
              "1          TCR  281458        56044  18:55:00  \n",
              "2          PBR  309335        19269  15:05:00  \n",
              "3            R  283774        58205  13:30:00  \n",
              "4          GMO  319937        63542  07:20:00  "
            ],
            "text/html": [
              "\n",
              "  <div id=\"df-1d6e3056-f855-4906-afbc-c7b532a1cedb\">\n",
              "    <div class=\"colab-df-container\">\n",
              "      <div>\n",
              "<style scoped>\n",
              "    .dataframe tbody tr th:only-of-type {\n",
              "        vertical-align: middle;\n",
              "    }\n",
              "\n",
              "    .dataframe tbody tr th {\n",
              "        vertical-align: top;\n",
              "    }\n",
              "\n",
              "    .dataframe thead th {\n",
              "        text-align: right;\n",
              "    }\n",
              "</style>\n",
              "<table border=\"1\" class=\"dataframe\">\n",
              "  <thead>\n",
              "    <tr style=\"text-align: right;\">\n",
              "      <th></th>\n",
              "      <th>arrival</th>\n",
              "      <th>day</th>\n",
              "      <th>train_name</th>\n",
              "      <th>station_name</th>\n",
              "      <th>station_code</th>\n",
              "      <th>id</th>\n",
              "      <th>train_number</th>\n",
              "      <th>departure</th>\n",
              "    </tr>\n",
              "  </thead>\n",
              "  <tbody>\n",
              "    <tr>\n",
              "      <th>0</th>\n",
              "      <td>None</td>\n",
              "      <td>1.0</td>\n",
              "      <td>Falaknuma Lingampalli MMTS</td>\n",
              "      <td>KACHEGUDA FALAKNUMA</td>\n",
              "      <td>FM</td>\n",
              "      <td>302214</td>\n",
              "      <td>47154</td>\n",
              "      <td>07:55:00</td>\n",
              "    </tr>\n",
              "    <tr>\n",
              "      <th>1</th>\n",
              "      <td>None</td>\n",
              "      <td>1.0</td>\n",
              "      <td>Thrissur Guruvayur Passenger</td>\n",
              "      <td>THRISUR</td>\n",
              "      <td>TCR</td>\n",
              "      <td>281458</td>\n",
              "      <td>56044</td>\n",
              "      <td>18:55:00</td>\n",
              "    </tr>\n",
              "    <tr>\n",
              "      <th>2</th>\n",
              "      <td>None</td>\n",
              "      <td>1.0</td>\n",
              "      <td>Porbandar Muzaffarpur Express</td>\n",
              "      <td>PORBANDAR</td>\n",
              "      <td>PBR</td>\n",
              "      <td>309335</td>\n",
              "      <td>19269</td>\n",
              "      <td>15:05:00</td>\n",
              "    </tr>\n",
              "    <tr>\n",
              "      <th>3</th>\n",
              "      <td>None</td>\n",
              "      <td>1.0</td>\n",
              "      <td>RAIPUR ITWARI PASS</td>\n",
              "      <td>RAIPUR JN</td>\n",
              "      <td>R</td>\n",
              "      <td>283774</td>\n",
              "      <td>58205</td>\n",
              "      <td>13:30:00</td>\n",
              "    </tr>\n",
              "    <tr>\n",
              "      <th>4</th>\n",
              "      <td>None</td>\n",
              "      <td>1.0</td>\n",
              "      <td>Gomoh-Asansol MEMU</td>\n",
              "      <td>GOMOH JN</td>\n",
              "      <td>GMO</td>\n",
              "      <td>319937</td>\n",
              "      <td>63542</td>\n",
              "      <td>07:20:00</td>\n",
              "    </tr>\n",
              "  </tbody>\n",
              "</table>\n",
              "</div>\n",
              "      <button class=\"colab-df-convert\" onclick=\"convertToInteractive('df-1d6e3056-f855-4906-afbc-c7b532a1cedb')\"\n",
              "              title=\"Convert this dataframe to an interactive table.\"\n",
              "              style=\"display:none;\">\n",
              "        \n",
              "  <svg xmlns=\"http://www.w3.org/2000/svg\" height=\"24px\"viewBox=\"0 0 24 24\"\n",
              "       width=\"24px\">\n",
              "    <path d=\"M0 0h24v24H0V0z\" fill=\"none\"/>\n",
              "    <path d=\"M18.56 5.44l.94 2.06.94-2.06 2.06-.94-2.06-.94-.94-2.06-.94 2.06-2.06.94zm-11 1L8.5 8.5l.94-2.06 2.06-.94-2.06-.94L8.5 2.5l-.94 2.06-2.06.94zm10 10l.94 2.06.94-2.06 2.06-.94-2.06-.94-.94-2.06-.94 2.06-2.06.94z\"/><path d=\"M17.41 7.96l-1.37-1.37c-.4-.4-.92-.59-1.43-.59-.52 0-1.04.2-1.43.59L10.3 9.45l-7.72 7.72c-.78.78-.78 2.05 0 2.83L4 21.41c.39.39.9.59 1.41.59.51 0 1.02-.2 1.41-.59l7.78-7.78 2.81-2.81c.8-.78.8-2.07 0-2.86zM5.41 20L4 18.59l7.72-7.72 1.47 1.35L5.41 20z\"/>\n",
              "  </svg>\n",
              "      </button>\n",
              "      \n",
              "  <style>\n",
              "    .colab-df-container {\n",
              "      display:flex;\n",
              "      flex-wrap:wrap;\n",
              "      gap: 12px;\n",
              "    }\n",
              "\n",
              "    .colab-df-convert {\n",
              "      background-color: #E8F0FE;\n",
              "      border: none;\n",
              "      border-radius: 50%;\n",
              "      cursor: pointer;\n",
              "      display: none;\n",
              "      fill: #1967D2;\n",
              "      height: 32px;\n",
              "      padding: 0 0 0 0;\n",
              "      width: 32px;\n",
              "    }\n",
              "\n",
              "    .colab-df-convert:hover {\n",
              "      background-color: #E2EBFA;\n",
              "      box-shadow: 0px 1px 2px rgba(60, 64, 67, 0.3), 0px 1px 3px 1px rgba(60, 64, 67, 0.15);\n",
              "      fill: #174EA6;\n",
              "    }\n",
              "\n",
              "    [theme=dark] .colab-df-convert {\n",
              "      background-color: #3B4455;\n",
              "      fill: #D2E3FC;\n",
              "    }\n",
              "\n",
              "    [theme=dark] .colab-df-convert:hover {\n",
              "      background-color: #434B5C;\n",
              "      box-shadow: 0px 1px 3px 1px rgba(0, 0, 0, 0.15);\n",
              "      filter: drop-shadow(0px 1px 2px rgba(0, 0, 0, 0.3));\n",
              "      fill: #FFFFFF;\n",
              "    }\n",
              "  </style>\n",
              "\n",
              "      <script>\n",
              "        const buttonEl =\n",
              "          document.querySelector('#df-1d6e3056-f855-4906-afbc-c7b532a1cedb button.colab-df-convert');\n",
              "        buttonEl.style.display =\n",
              "          google.colab.kernel.accessAllowed ? 'block' : 'none';\n",
              "\n",
              "        async function convertToInteractive(key) {\n",
              "          const element = document.querySelector('#df-1d6e3056-f855-4906-afbc-c7b532a1cedb');\n",
              "          const dataTable =\n",
              "            await google.colab.kernel.invokeFunction('convertToInteractive',\n",
              "                                                     [key], {});\n",
              "          if (!dataTable) return;\n",
              "\n",
              "          const docLinkHtml = 'Like what you see? Visit the ' +\n",
              "            '<a target=\"_blank\" href=https://colab.research.google.com/notebooks/data_table.ipynb>data table notebook</a>'\n",
              "            + ' to learn more about interactive tables.';\n",
              "          element.innerHTML = '';\n",
              "          dataTable['output_type'] = 'display_data';\n",
              "          await google.colab.output.renderOutput(dataTable, element);\n",
              "          const docLink = document.createElement('div');\n",
              "          docLink.innerHTML = docLinkHtml;\n",
              "          element.appendChild(docLink);\n",
              "        }\n",
              "      </script>\n",
              "    </div>\n",
              "  </div>\n",
              "  "
            ]
          },
          "metadata": {},
          "execution_count": 28
        }
      ]
    },
    {
      "cell_type": "code",
      "source": [
        "df.shape"
      ],
      "metadata": {
        "colab": {
          "base_uri": "https://localhost:8080/"
        },
        "id": "46sga8G59S95",
        "outputId": "31a52294-1dd6-48dd-95a8-ef34e757a465"
      },
      "execution_count": null,
      "outputs": [
        {
          "output_type": "execute_result",
          "data": {
            "text/plain": [
              "(417080, 8)"
            ]
          },
          "metadata": {},
          "execution_count": 30
        }
      ]
    },
    {
      "cell_type": "code",
      "source": [
        "df.isnull().sum(axis = 0)"
      ],
      "metadata": {
        "colab": {
          "base_uri": "https://localhost:8080/"
        },
        "id": "gTRK31iQ9zEx",
        "outputId": "9148f18a-b739-444f-8cb8-1dbf1f22f160"
      },
      "execution_count": null,
      "outputs": [
        {
          "output_type": "execute_result",
          "data": {
            "text/plain": [
              "arrival             0\n",
              "day             22561\n",
              "train_name          0\n",
              "station_name        0\n",
              "station_code        0\n",
              "id                  0\n",
              "train_number        0\n",
              "departure           0\n",
              "dtype: int64"
            ]
          },
          "metadata": {},
          "execution_count": 31
        }
      ]
    },
    {
      "cell_type": "code",
      "source": [
        "df.drop(['id'], axis = 1, inplace = True)"
      ],
      "metadata": {
        "id": "BRtaiRyr99b6"
      },
      "execution_count": null,
      "outputs": []
    },
    {
      "cell_type": "code",
      "source": [
        "df.dtypes"
      ],
      "metadata": {
        "colab": {
          "base_uri": "https://localhost:8080/"
        },
        "id": "QKAlLsDI-JX7",
        "outputId": "c1681d35-d1e3-41c9-802e-8a0d8a7c8231"
      },
      "execution_count": null,
      "outputs": [
        {
          "output_type": "execute_result",
          "data": {
            "text/plain": [
              "arrival          object\n",
              "day             float64\n",
              "train_name       object\n",
              "station_name     object\n",
              "station_code     object\n",
              "train_number     object\n",
              "departure        object\n",
              "dtype: object"
            ]
          },
          "metadata": {},
          "execution_count": 33
        }
      ]
    },
    {
      "cell_type": "code",
      "source": [
        "print(\"Total number of Trains : \",df['train_name'].nunique())\n",
        "print(\"Total number of Stations : \",df['station_name'].nunique())"
      ],
      "metadata": {
        "colab": {
          "base_uri": "https://localhost:8080/"
        },
        "id": "98pDKXpg-Ks7",
        "outputId": "14732622-abb1-449a-f023-d8755ac0ecf1"
      },
      "execution_count": null,
      "outputs": [
        {
          "output_type": "stream",
          "name": "stdout",
          "text": [
            "Total number of Trains :  3948\n",
            "Total number of Stations :  8495\n"
          ]
        }
      ]
    },
    {
      "cell_type": "code",
      "source": [
        "d = {\"trains\" : df['train_name'],\n",
        "     \"junctions\" : df['station_name']}\n",
        "\n",
        "df2 = pd.DataFrame(d)\n",
        "df2.head()"
      ],
      "metadata": {
        "colab": {
          "base_uri": "https://localhost:8080/",
          "height": 206
        },
        "id": "m8VWao5N_e6_",
        "outputId": "cea31ff7-94d7-4595-801d-beff773a76a5"
      },
      "execution_count": null,
      "outputs": [
        {
          "output_type": "execute_result",
          "data": {
            "text/plain": [
              "                          trains            junctions\n",
              "0     Falaknuma Lingampalli MMTS  KACHEGUDA FALAKNUMA\n",
              "1   Thrissur Guruvayur Passenger              THRISUR\n",
              "2  Porbandar Muzaffarpur Express            PORBANDAR\n",
              "3             RAIPUR ITWARI PASS            RAIPUR JN\n",
              "4             Gomoh-Asansol MEMU             GOMOH JN"
            ],
            "text/html": [
              "\n",
              "  <div id=\"df-df6c5052-0e1f-45e9-869a-a80b89bb2edd\">\n",
              "    <div class=\"colab-df-container\">\n",
              "      <div>\n",
              "<style scoped>\n",
              "    .dataframe tbody tr th:only-of-type {\n",
              "        vertical-align: middle;\n",
              "    }\n",
              "\n",
              "    .dataframe tbody tr th {\n",
              "        vertical-align: top;\n",
              "    }\n",
              "\n",
              "    .dataframe thead th {\n",
              "        text-align: right;\n",
              "    }\n",
              "</style>\n",
              "<table border=\"1\" class=\"dataframe\">\n",
              "  <thead>\n",
              "    <tr style=\"text-align: right;\">\n",
              "      <th></th>\n",
              "      <th>trains</th>\n",
              "      <th>junctions</th>\n",
              "    </tr>\n",
              "  </thead>\n",
              "  <tbody>\n",
              "    <tr>\n",
              "      <th>0</th>\n",
              "      <td>Falaknuma Lingampalli MMTS</td>\n",
              "      <td>KACHEGUDA FALAKNUMA</td>\n",
              "    </tr>\n",
              "    <tr>\n",
              "      <th>1</th>\n",
              "      <td>Thrissur Guruvayur Passenger</td>\n",
              "      <td>THRISUR</td>\n",
              "    </tr>\n",
              "    <tr>\n",
              "      <th>2</th>\n",
              "      <td>Porbandar Muzaffarpur Express</td>\n",
              "      <td>PORBANDAR</td>\n",
              "    </tr>\n",
              "    <tr>\n",
              "      <th>3</th>\n",
              "      <td>RAIPUR ITWARI PASS</td>\n",
              "      <td>RAIPUR JN</td>\n",
              "    </tr>\n",
              "    <tr>\n",
              "      <th>4</th>\n",
              "      <td>Gomoh-Asansol MEMU</td>\n",
              "      <td>GOMOH JN</td>\n",
              "    </tr>\n",
              "  </tbody>\n",
              "</table>\n",
              "</div>\n",
              "      <button class=\"colab-df-convert\" onclick=\"convertToInteractive('df-df6c5052-0e1f-45e9-869a-a80b89bb2edd')\"\n",
              "              title=\"Convert this dataframe to an interactive table.\"\n",
              "              style=\"display:none;\">\n",
              "        \n",
              "  <svg xmlns=\"http://www.w3.org/2000/svg\" height=\"24px\"viewBox=\"0 0 24 24\"\n",
              "       width=\"24px\">\n",
              "    <path d=\"M0 0h24v24H0V0z\" fill=\"none\"/>\n",
              "    <path d=\"M18.56 5.44l.94 2.06.94-2.06 2.06-.94-2.06-.94-.94-2.06-.94 2.06-2.06.94zm-11 1L8.5 8.5l.94-2.06 2.06-.94-2.06-.94L8.5 2.5l-.94 2.06-2.06.94zm10 10l.94 2.06.94-2.06 2.06-.94-2.06-.94-.94-2.06-.94 2.06-2.06.94z\"/><path d=\"M17.41 7.96l-1.37-1.37c-.4-.4-.92-.59-1.43-.59-.52 0-1.04.2-1.43.59L10.3 9.45l-7.72 7.72c-.78.78-.78 2.05 0 2.83L4 21.41c.39.39.9.59 1.41.59.51 0 1.02-.2 1.41-.59l7.78-7.78 2.81-2.81c.8-.78.8-2.07 0-2.86zM5.41 20L4 18.59l7.72-7.72 1.47 1.35L5.41 20z\"/>\n",
              "  </svg>\n",
              "      </button>\n",
              "      \n",
              "  <style>\n",
              "    .colab-df-container {\n",
              "      display:flex;\n",
              "      flex-wrap:wrap;\n",
              "      gap: 12px;\n",
              "    }\n",
              "\n",
              "    .colab-df-convert {\n",
              "      background-color: #E8F0FE;\n",
              "      border: none;\n",
              "      border-radius: 50%;\n",
              "      cursor: pointer;\n",
              "      display: none;\n",
              "      fill: #1967D2;\n",
              "      height: 32px;\n",
              "      padding: 0 0 0 0;\n",
              "      width: 32px;\n",
              "    }\n",
              "\n",
              "    .colab-df-convert:hover {\n",
              "      background-color: #E2EBFA;\n",
              "      box-shadow: 0px 1px 2px rgba(60, 64, 67, 0.3), 0px 1px 3px 1px rgba(60, 64, 67, 0.15);\n",
              "      fill: #174EA6;\n",
              "    }\n",
              "\n",
              "    [theme=dark] .colab-df-convert {\n",
              "      background-color: #3B4455;\n",
              "      fill: #D2E3FC;\n",
              "    }\n",
              "\n",
              "    [theme=dark] .colab-df-convert:hover {\n",
              "      background-color: #434B5C;\n",
              "      box-shadow: 0px 1px 3px 1px rgba(0, 0, 0, 0.15);\n",
              "      filter: drop-shadow(0px 1px 2px rgba(0, 0, 0, 0.3));\n",
              "      fill: #FFFFFF;\n",
              "    }\n",
              "  </style>\n",
              "\n",
              "      <script>\n",
              "        const buttonEl =\n",
              "          document.querySelector('#df-df6c5052-0e1f-45e9-869a-a80b89bb2edd button.colab-df-convert');\n",
              "        buttonEl.style.display =\n",
              "          google.colab.kernel.accessAllowed ? 'block' : 'none';\n",
              "\n",
              "        async function convertToInteractive(key) {\n",
              "          const element = document.querySelector('#df-df6c5052-0e1f-45e9-869a-a80b89bb2edd');\n",
              "          const dataTable =\n",
              "            await google.colab.kernel.invokeFunction('convertToInteractive',\n",
              "                                                     [key], {});\n",
              "          if (!dataTable) return;\n",
              "\n",
              "          const docLinkHtml = 'Like what you see? Visit the ' +\n",
              "            '<a target=\"_blank\" href=https://colab.research.google.com/notebooks/data_table.ipynb>data table notebook</a>'\n",
              "            + ' to learn more about interactive tables.';\n",
              "          element.innerHTML = '';\n",
              "          dataTable['output_type'] = 'display_data';\n",
              "          await google.colab.output.renderOutput(dataTable, element);\n",
              "          const docLink = document.createElement('div');\n",
              "          docLink.innerHTML = docLinkHtml;\n",
              "          element.appendChild(docLink);\n",
              "        }\n",
              "      </script>\n",
              "    </div>\n",
              "  </div>\n",
              "  "
            ]
          },
          "metadata": {},
          "execution_count": 39
        }
      ]
    },
    {
      "cell_type": "code",
      "source": [
        ""
      ],
      "metadata": {
        "id": "TOhXcItBHAVL"
      },
      "execution_count": null,
      "outputs": []
    }
  ]
}